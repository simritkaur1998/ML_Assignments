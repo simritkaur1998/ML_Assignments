{
 "cells": [
  {
   "cell_type": "code",
   "execution_count": 5,
   "metadata": {},
   "outputs": [
    {
     "name": "stdout",
     "output_type": "stream",
     "text": [
      "0.1818181818181818\n"
     ]
    }
   ],
   "source": [
    "#Question1\n",
    "def evalProb(pab, pa, pb):\n",
    "    pba=(pab*pb)/pa\n",
    "    return pba\n",
    "pab=12/36\n",
    "pa=11/36\n",
    "pb=6/36\n",
    "print(evalProb(pab,pa,pb))"
   ]
  },
  {
   "cell_type": "code",
   "execution_count": 6,
   "metadata": {},
   "outputs": [
    {
     "name": "stdout",
     "output_type": "stream",
     "text": [
      "0.5833333333333334\n"
     ]
    }
   ],
   "source": [
    "#Question2\n",
    "#e1=event of choosing bag1  e2=event of choosing bag2  A=event of drawing black ball\n",
    "#pe1=p(e1)  pe2=p(e2)  pae1=p(A|e1)  pae2=p(A|e2)  pe2a=p(e2|A)\n",
    "pe1=pe2=1/2\n",
    "pae1=6/10\n",
    "pae2=3/7\n",
    "pe2a=(pae1*pe1)/((pe1*pae1)+(pe2*pae2))\n",
    "print(pe2a)"
   ]
  },
  {
   "cell_type": "code",
   "execution_count": 7,
   "metadata": {},
   "outputs": [
    {
     "name": "stdout",
     "output_type": "stream",
     "text": [
      "0.2857142857142857\n"
     ]
    }
   ],
   "source": [
    "#Question3\n",
    "#e=event of man reporting a 4  f1= event when 4 occurs  f2=event when 4 doesnot occur\n",
    "#pf1=p(f1)  pf2=p(f2)  pef1=p(e|f1)  pef2=p(e|f2)  pf1e=p(e|f1)\n",
    "pf1=1/6\n",
    "pf2=5/6\n",
    "pef1=2/3\n",
    "pef2=1/3\n",
    "pf1e=(pf1*pef1)/((pf1*pef1)+(pf2*pef2))\n",
    "print(pf1e)"
   ]
  },
  {
   "cell_type": "code",
   "execution_count": null,
   "metadata": {},
   "outputs": [],
   "source": []
  }
 ],
 "metadata": {
  "kernelspec": {
   "display_name": "Python 3",
   "language": "python",
   "name": "python3"
  },
  "language_info": {
   "codemirror_mode": {
    "name": "ipython",
    "version": 3
   },
   "file_extension": ".py",
   "mimetype": "text/x-python",
   "name": "python",
   "nbconvert_exporter": "python",
   "pygments_lexer": "ipython3",
   "version": "3.7.1"
  }
 },
 "nbformat": 4,
 "nbformat_minor": 2
}
